{
 "cells": [
  {
   "cell_type": "markdown",
   "id": "fe753f84-4c38-4cc8-ad73-7c04d4680a42",
   "metadata": {
    "tags": []
   },
   "source": [
    "# Markdown Cells (vs. Code Cells)\n",
    "- Markdown cells allow you to format text, create headers, create equations, insert images, etc.\n",
    "- Code cells allow you (and those you send your file to) to execute Python code and see the results\n",
    "\n",
    "## Formatting text\n",
    "\n",
    "### Bold\n",
    "- **Bold 1**\n",
    "- <b>Bold 2</b>\n",
    "\n",
    "### Italics\n",
    "- *Italics 1*\n",
    "- <i>Italics 2</i>\n",
    "\n",
    "### Underlined\n",
    "- <u>Underlined</u>\n",
    "\n",
    "## Equations\n",
    "- Square root function, exponents, fractions, limits\n",
    "$$c = \\sqrt{a^2 + b^2}$$\n",
    "$$x = \\frac{-b \\pm \\sqrt{b^2-4ac}}{2a}$$\n",
    "$$ \\frac{dx}{dt} = f'(x) = \\lim_{h \\to 0}\\frac{f(x+h)-f(x)}{h}$$\n",
    "- Underscores\n",
    "$$R_0 + R_{\\text{effective}}$$\n",
    "- Greek letters\n",
    "$$\\lambda, \\psi, \\nu, \\gamma, \\omega, \\theta, \\phi, \\alpha, \\beta, \\delta, \\Delta, \\zeta, \\epsilon, \\eta, \\mu$$\n",
    "\n",
    "## Images\n",
    "For these examples to work, the image files must be in the same folder as the Jupyter Notebook file\n",
    "\n",
    "\n",
    "**For HW problems that require graphs** -- if you can't figure out how to draw a graph using technology, draw it by hand, take a picture and insert an image\n",
    "\n",
    "## Example code"
   ]
  },
  {
   "cell_type": "code",
   "execution_count": 2,
   "id": "24acf526-2420-43c7-9b52-eaf87f2b9ee0",
   "metadata": {},
   "outputs": [
    {
     "name": "stdout",
     "output_type": "stream",
     "text": [
      "Hello\n"
     ]
    }
   ],
   "source": [
    "x = \"Hello\"\n",
    "print(x)"
   ]
  },
  {
   "cell_type": "code",
   "execution_count": null,
   "id": "19be4758-7386-48df-b589-2474cae286ca",
   "metadata": {},
   "outputs": [],
   "source": []
  }
 ],
 "metadata": {
  "kernelspec": {
   "display_name": "Python 3 (ipykernel)",
   "language": "python",
   "name": "python3"
  },
  "language_info": {
   "codemirror_mode": {
    "name": "ipython",
    "version": 3
   },
   "file_extension": ".py",
   "mimetype": "text/x-python",
   "name": "python",
   "nbconvert_exporter": "python",
   "pygments_lexer": "ipython3",
   "version": "3.9.7"
  }
 },
 "nbformat": 4,
 "nbformat_minor": 5
}
