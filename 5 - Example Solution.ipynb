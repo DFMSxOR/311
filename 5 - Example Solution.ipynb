{
 "cells": [
  {
   "cell_type": "markdown",
   "metadata": {},
   "source": [
    "# Example 1: Blending\n",
    "\n",
    "**Decision Variables**\n",
    "\n",
    "$\n",
    "A = \\text{boxes of cereal } A \\text{ to produce}\\\\\n",
    "B = \\text{boxes of cereal } B \\text{ to produce}\\\\\n",
    "C = \\text{boxes of cereal } C \\text{ to produce}\\\\\n",
    "x_i = \\text{tons of ingredient } i \\text{ to purchase }\\\\\n",
    "i\\in \\{1=\\text{Oats},2=\\text{Raisins},3=\\text{Coconut},4=\\text{Almonds}\\}\n",
    "$\n",
    "\n",
    "**Parameters**\n",
    "\n",
    "$\n",
    "\\begin{align}\n",
    "Cost_i &= \\{100,120,110,200\\} && \\text{Cost of ingredients (dollars/ton)} \\\\\n",
    "Avail_i &= \\{5,2,1,1\\} && \\text{Daily availability of ingredients (tons)} \\\\\n",
    "\\end{align}\\\\\n",
    "$\n",
    "\n",
    "**Objective Function**\n",
    "\n",
    "$\n",
    "\\text{Maximize }Z = 2A+2.5B+3C - \\sum_i Cost_i\\cdot x_i\n",
    "$\n",
    "\n",
    "**Subject To**\n",
    "\n",
    "$\n",
    "\\begin{align}\n",
    "A & \\ge 500 &\\text{Minimum daily demand for cereal }A \\\\\n",
    "B & \\ge 600 &\\text{Minimum daily demand for cereal }B \\\\\n",
    "C & \\ge 500 &\\text{Minimum daily demand for cereal }C \\\\\n",
    "x_i & \\le Avail_i \\text{ }\\forall i &\\text{Availability of ingredients}\\\\\n",
    "\\frac{50}{57}\\cdot5\\cdot A + \\frac{60}{65}\\cdot5\\cdot B +\\frac{60}{69}\\cdot5\\cdot C -2000\\cdot x_1& \\le 0 &\\text{Oat usage per 5-lb box of each cereal type} \\\\\n",
    "\\frac{5}{57}\\cdot5\\cdot A + \\frac{0}{65}\\cdot5\\cdot B +\\frac{3}{69}\\cdot5\\cdot C -2000\\cdot x_2& \\le 0 &\\text{Raisin usage per 5-lb box of each cereal type} \\\\\n",
    "\\frac{0}{57}\\cdot5\\cdot A + \\frac{2}{65}\\cdot5\\cdot B +\\frac{4}{69}\\cdot5\\cdot C -2000\\cdot x_3& \\le 0 &\\text{Coconut usage per 5-lb box of each cereal type} \\\\\n",
    "\\frac{2}{57}\\cdot5\\cdot A + \\frac{3}{65}\\cdot5\\cdot B +\\frac{2}{69}\\cdot5\\cdot C -2000\\cdot x_4& \\le 0 &\\text{Almond usage per 5-lb box of each cereal type} \n",
    "\\end{align}\\\\\n",
    "A,B,C,x_i \\ge 0 \\text{ }\\forall i\n",
    "$"
   ]
  },
  {
   "cell_type": "code",
   "execution_count": null,
   "metadata": {},
   "outputs": [],
   "source": []
  }
 ],
 "metadata": {
  "kernelspec": {
   "display_name": "Python 3 (ipykernel)",
   "language": "python",
   "name": "python3"
  },
  "language_info": {
   "codemirror_mode": {
    "name": "ipython",
    "version": 3
   },
   "file_extension": ".py",
   "mimetype": "text/x-python",
   "name": "python",
   "nbconvert_exporter": "python",
   "pygments_lexer": "ipython3",
   "version": "3.9.7"
  }
 },
 "nbformat": 4,
 "nbformat_minor": 4
}
