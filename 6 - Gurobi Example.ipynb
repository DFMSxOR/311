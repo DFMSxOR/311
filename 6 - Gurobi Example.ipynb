{
 "cells": [
  {
   "cell_type": "code",
   "execution_count": 2,
   "metadata": {},
   "outputs": [
    {
     "name": "stdout",
     "output_type": "stream",
     "text": [
      "Using license file C:\\Users\\chris\\gurobi.lic\n",
      "Academic license - for non-commercial use only\n",
      "Changed value of parameter Method to 0\n",
      "   Prev: -1  Min: -1  Max: 5  Default: -1\n",
      "Gurobi Optimizer version 9.0.2 build v9.0.2rc0 (win64)\n",
      "Optimize a model with 3 rows, 2 columns and 4 nonzeros\n",
      "Model fingerprint: 0xfa27b78f\n",
      "Coefficient statistics:\n",
      "  Matrix range     [1e+00, 3e+00]\n",
      "  Objective range  [3e+00, 5e+00]\n",
      "  Bounds range     [0e+00, 0e+00]\n",
      "  RHS range        [4e+00, 2e+01]\n",
      "Presolve removed 3 rows and 2 columns\n",
      "Presolve time: 0.00s\n",
      "Presolve: All rows and columns removed\n",
      "Iteration    Objective       Primal Inf.    Dual Inf.      Time\n",
      "       0    4.5000000e+01   0.000000e+00   0.000000e+00      0s\n",
      "\n",
      "Solved in 0 iterations and 0.00 seconds\n",
      "Optimal objective  4.500000000e+01\n",
      "x1 0.0\n",
      "x2 9.0\n",
      "Optimal objective function value =  45.0\n",
      "Warning: constraint name \"Less than or equal to constraint\" has a space\n"
     ]
    }
   ],
   "source": [
    "#import python gurobi module\n",
    "from gurobipy import *\n",
    "\n",
    "#creat a model object\n",
    "example = Model()\n",
    "\n",
    "\n",
    "example.setParam(GRB.param.Method,0)\n",
    "\n",
    "#create decision variables -- define nonnegativity with \"lb=0.0\"\n",
    "x1 = example.addVar(lb=0.0, ub=GRB.INFINITY, vtype=GRB.CONTINUOUS, name=\"x1\")\n",
    "x2 = example.addVar(lb=0.0, ub=GRB.INFINITY, vtype=GRB.CONTINUOUS, name=\"x2\")\n",
    "\n",
    "# define objective function\n",
    "z = example.setObjective(3*x1 + 5*x2, GRB.MAXIMIZE)\n",
    "\n",
    "# define constraints\n",
    "example.addConstr(x1 <= 4, \"Less than or equal to constraint\")\n",
    "example.addConstr(2*x2 >= 12, \"Greater than or equal to constraint\")\n",
    "example.addConstr(3*x1 + 2*x2 == 18, \"Equality constraint\")\n",
    "\n",
    "# update the model \n",
    "example.update()\n",
    "\n",
    "# find the optimal solution\n",
    "example.optimize()\n",
    "\n",
    "# print variable values\n",
    "for v in example.getVars():\n",
    "    print(v.varName, v.x)\n",
    "\n",
    "# print objective function value\n",
    "print(\"Optimal objective function value = \",example.objVal)\n",
    "\n",
    "# write model out to a file\n",
    "example.write(\"Class_Example1_OR311_2019.lp\")"
   ]
  },
  {
   "cell_type": "code",
   "execution_count": null,
   "metadata": {},
   "outputs": [],
   "source": []
  }
 ],
 "metadata": {
  "kernelspec": {
   "display_name": "Python 3 (ipykernel)",
   "language": "python",
   "name": "python3"
  },
  "language_info": {
   "codemirror_mode": {
    "name": "ipython",
    "version": 3
   },
   "file_extension": ".py",
   "mimetype": "text/x-python",
   "name": "python",
   "nbconvert_exporter": "python",
   "pygments_lexer": "ipython3",
   "version": "3.9.7"
  }
 },
 "nbformat": 4,
 "nbformat_minor": 4
}
