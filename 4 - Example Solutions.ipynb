{
 "cells": [
  {
   "cell_type": "markdown",
   "metadata": {},
   "source": [
    "# Example 1: Production & Inventory Control\n",
    "\n",
    "**Decision Variables**\n",
    "\n",
    "$\n",
    "x_i = \\text{amount of product } i \\text{ to produce}\\\\\n",
    "y_i = \\text{amount of product } i \\text{ produced below demand }\\\\\n",
    "i\\in \\{1=\\text{Parka},2=\\text{Goose},3=\\text{Pants},4=\\text{Gloves}\\}\n",
    "$\n",
    "\n",
    "**Parameters**\n",
    "\n",
    "$\n",
    "\\begin{align}\n",
    "Profit_i = \\{30,40,20,10\\} && \\text{(Profit in dollars/item)} \\\\\n",
    "Penalty_i = \\{15,20,10,8\\} &&\\text{(Penalty in dollars/item short of meeting demand)}\\\\\n",
    "D_i = \\{800,750,600,500\\} &&\\text{(Demand for product i)}\\\\\n",
    "\\end{align}\\\\\n",
    "$\n",
    "\n",
    "**Objective Function**\n",
    "\n",
    "$\n",
    "\\text{Maximize }Z = \\sum_i Profit_i\\cdot x_i - \\sum_i Penalty_i\\cdot y_i\n",
    "$\n",
    "\n",
    "**Subject To**\n",
    "\n",
    "$\n",
    "\\begin{align}\n",
    "y_i + x_i & \\ge D_i \\text{ }\\forall i &\\text{Define penalty variables based off of demand for each item} \\\\\n",
    "x_i & \\le D_i \\text{ }\\forall i &\\text{Max orders for each item cannot exceed demand for item} \\\\\n",
    "0.30x_1+0.30x_2+0.25x_3+0.15x_4 & \\le 1000 &\\text{Cutting resource (hrs)} \\\\\n",
    "0.25x_1+0.35x_2+0.30x_3+0.10x_4 & \\le 1000 &\\text{Insulating resource (hrs)} \\\\\n",
    "0.45x_1+0.50x_2+0.40x_3+0.22x_4 & \\le 1000 &\\text{Sewing resource (hrs)} \\\\\n",
    "0.15x_1+0.15x_2+0.10x_3+0.05x_4 & \\le 1000 &\\text{Packing resource (hrs)} \n",
    "\\end{align}\\\\\n",
    "x_i, y_i \\ge 0 \\text{ }\\forall i\n",
    "$"
   ]
  },
  {
   "cell_type": "markdown",
   "metadata": {},
   "source": [
    "# Example 2: Scheduling\n",
    "\n",
    "**Decision Variables**\n",
    "\n",
    "$\n",
    "x_i = \\text{number of students that begin a shift at hour } i \\\\\n",
    "i\\in \\{8,9,10,11,12,13,14,15,16\\} \\text{     (think of hours in military time)}\n",
    "$\n",
    "\n",
    "**Objective Function**\n",
    "\n",
    "$\n",
    "\\text{Minimize }Z = \\sum_i x_i\n",
    "$\n",
    "\n",
    "**Subject To**\n",
    "\n",
    "$\n",
    "\\begin{align}\n",
    "x_8 & \\ge 2 &\\text{At least 2 must work from 0800-0900} \\\\\n",
    "x_8 +x_9 & \\ge 2 &\\text{At least 2 must work from 0900-1000} \\\\\n",
    "x_8 +x_9 +x_{10}& \\ge 3 &\\text{At least 3 must work from 1000-1100} \\\\\n",
    "x_9 +x_{10}+x_{11}& \\ge 4 &\\text{At least 4 must work from 1100-1200} \\\\\n",
    "x_{10}+x_{11}+x_{12}& \\ge 4 &\\text{At least 4 must work from 1200-1300} \\\\\n",
    "x_{11}+x_{12}+x_{13}& \\ge 3 &\\text{At least 3 must work from 1300-1400} \\\\\n",
    "x_{12}+x_{13}+x_{14}& \\ge 3 &\\text{At least 3 must work from 1400-1500} \\\\\n",
    "x_{13}+x_{14}+x_{15}& \\ge 3 &\\text{At least 3 must work from 1500-1600} \\\\\n",
    "x_{14}+x_{15}+x_{16}& \\ge 3 &\\text{At least 3 must work from 1600-1700} \\\\\n",
    "x_{12} & = 0 &\\text{no student wants to start working at noon}\n",
    "\\end{align}\\\\\n",
    "x_i \\ge 0 \\text{ }\\forall i\n",
    "$"
   ]
  },
  {
   "cell_type": "code",
   "execution_count": null,
   "metadata": {},
   "outputs": [],
   "source": []
  }
 ],
 "metadata": {
  "kernelspec": {
   "display_name": "Python 3 (ipykernel)",
   "language": "python",
   "name": "python3"
  },
  "language_info": {
   "codemirror_mode": {
    "name": "ipython",
    "version": 3
   },
   "file_extension": ".py",
   "mimetype": "text/x-python",
   "name": "python",
   "nbconvert_exporter": "python",
   "pygments_lexer": "ipython3",
   "version": "3.9.7"
  }
 },
 "nbformat": 4,
 "nbformat_minor": 4
}
