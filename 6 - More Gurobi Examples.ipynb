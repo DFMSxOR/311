{
 "cells": [
  {
   "cell_type": "code",
   "execution_count": 1,
   "metadata": {},
   "outputs": [
    {
     "name": "stdout",
     "output_type": "stream",
     "text": [
      "Using license file C:\\Users\\chris\\gurobi.lic\n",
      "Academic license - for non-commercial use only\n",
      "Gurobi Optimizer version 9.0.2 build v9.0.2rc0 (win64)\n",
      "Optimize a model with 6 rows, 6 columns and 6 nonzeros\n",
      "Model fingerprint: 0xbc2d97b5\n",
      "Coefficient statistics:\n",
      "  Matrix range     [1e+00, 1e+00]\n",
      "  Objective range  [1e-01, 5e-01]\n",
      "  Bounds range     [0e+00, 0e+00]\n",
      "  RHS range        [1e+00, 1e+02]\n",
      "Presolve removed 6 rows and 6 columns\n",
      "Presolve time: 0.00s\n",
      "Presolve: All rows and columns removed\n",
      "Iteration    Objective       Primal Inf.    Dual Inf.      Time\n",
      "       0    2.3315000e+01   0.000000e+00   0.000000e+00      0s\n",
      "\n",
      "Solved in 0 iterations and 0.00 seconds\n",
      "Optimal objective  2.331500000e+01\n",
      "x[1] 14.0\n",
      "x[2] 13.0\n",
      "x[3] 12.0\n",
      "x[4] 125.0\n",
      "x[5] 1.0\n",
      "x[6] 5.0\n"
     ]
    }
   ],
   "source": [
    "from gurobipy import *\n",
    "\n",
    "m = Model()\n",
    "\n",
    "# define indices and parameters separately...\n",
    "#indices = [1,2,3,4,5,6]\n",
    "#\n",
    "#c={\n",
    "#        1:   0.14,\n",
    "#        2:   0.13,\n",
    "#        3:   0.12,\n",
    "#        4:   0.125,\n",
    "#        5:   0.1,\n",
    "#        6:   0.5\n",
    "#        }\n",
    "#\n",
    "#rhs={\n",
    "#        1:   14,\n",
    "#        2:   13,\n",
    "#        3:   12,\n",
    "#        4:   125,\n",
    "#        5:   1,\n",
    "#        6:   5\n",
    "#        }\n",
    "\n",
    "#...or all at once in a multidict\n",
    "indices, c, rhs = multidict({\n",
    "                      1: [0.14, 14],\n",
    "                      2: [0.13, 13],\n",
    "                      3: [0.12, 12],\n",
    "                      4: [0.125, 125],\n",
    "                      5: [0.1, 1], \n",
    "                      6: [0.5, 5]\n",
    "                     })\n",
    "\n",
    "x=m.addVars(indices, lb=0.0, vtype=GRB.CONTINUOUS, name=\"x\" )\n",
    "\n",
    "Z = m.setObjective(sum(c[i]*x[i] for i in indices),GRB.MAXIMIZE)\n",
    "\n",
    "m.addConstrs((x[i] <= rhs[i] for i in indices), \"constraints\")\n",
    "\n",
    "m.update()\n",
    "\n",
    "m.write(\"more_examples.lp\")\n",
    "\n",
    "m.optimize()\n",
    "\n",
    "for v in m.getVars():\n",
    "    print(v.varName, v.x)"
   ]
  },
  {
   "cell_type": "code",
   "execution_count": null,
   "metadata": {},
   "outputs": [],
   "source": []
  }
 ],
 "metadata": {
  "kernelspec": {
   "display_name": "Python 3 (ipykernel)",
   "language": "python",
   "name": "python3"
  },
  "language_info": {
   "codemirror_mode": {
    "name": "ipython",
    "version": 3
   },
   "file_extension": ".py",
   "mimetype": "text/x-python",
   "name": "python",
   "nbconvert_exporter": "python",
   "pygments_lexer": "ipython3",
   "version": "3.9.7"
  }
 },
 "nbformat": 4,
 "nbformat_minor": 4
}
