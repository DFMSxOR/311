{
 "cells": [
  {
   "cell_type": "markdown",
   "id": "3cf57387",
   "metadata": {},
   "source": [
    "**Welcome to Operations Research 311**\n",
    "\n",
    "**Deterministic Models**\n",
    "\n",
    "- Course Objective: The objective of this course is for students to formulate, solve, and interpret optimization problems using deterministic, mathematical programming techniques.\n",
    "\n",
    "- Prerequisites: All students must have a background in multivariate calculus (Math 243 or Math 253) and linear algebra (Math 344 or Math 360).\n",
    "\n",
    "- Required Resources: You must have access to the resources below during each lesson:\n",
    "\n",
    "1. Introduction to Operations Research, 11th Ed, by Hillier and Lieberman (ISBN 978-1-259-87299-0).\n",
    "2. Anaconda ([https://www.gurobi.com/gurobi-and-anaconda-for-windows/)\\*](https://www.gurobi.com/gurobi-and-anaconda-for-windows/)*)\n",
    "3. Gurobi Optimizer 9.0.2 ([https://www.gurobi.com/academia/academic-program-and-licenses/](https://www.gurobi.com/academia/academic-program-and-licenses/))\n",
    "4. Python 3.7 ([https://www.python.org/downloads/](https://www.python.org/downloads/))\n",
    "5. Course Team\n",
    "\n",
    "**Lesson 1 Goals**\n",
    "\n",
    "1. Install Anaconda\n",
    "2. Install Gurobi\n",
    "3. Open Jupyter Notebook\n",
    "4. Open Lesson 1 File\n",
    "5. Open [Lesson 1 Article](https://usafa0.sharepoint.com/:b:/s/OR311Fall2022/EYyVNWRKlHZCgdqqh2aCP_sBu731hf_D1zb-pxgjoUVgOg?e=nyENWK)\n",
    "5. Run a line of code"
   ]
  },
  {
   "cell_type": "code",
   "execution_count": 2,
   "id": "b90fb19d",
   "metadata": {},
   "outputs": [
    {
     "name": "stdout",
     "output_type": "stream",
     "text": [
      "x + y = 12\n"
     ]
    }
   ],
   "source": [
    "# This is some Python!\n",
    "x = 5\n",
    "y = 7\n",
    "print(\"x + y =\", x + y)"
   ]
  },
  {
   "cell_type": "code",
   "execution_count": null,
   "id": "0f10d746",
   "metadata": {},
   "outputs": [],
   "source": []
  }
 ],
 "metadata": {
  "kernelspec": {
   "display_name": "Python 3 (ipykernel)",
   "language": "python",
   "name": "python3"
  },
  "language_info": {
   "codemirror_mode": {
    "name": "ipython",
    "version": 3
   },
   "file_extension": ".py",
   "mimetype": "text/x-python",
   "name": "python",
   "nbconvert_exporter": "python",
   "pygments_lexer": "ipython3",
   "version": "3.9.7"
  }
 },
 "nbformat": 4,
 "nbformat_minor": 5
}
