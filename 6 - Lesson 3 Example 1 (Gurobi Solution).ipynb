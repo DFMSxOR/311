{
 "cells": [
  {
   "cell_type": "code",
   "execution_count": 3,
   "metadata": {},
   "outputs": [
    {
     "name": "stdout",
     "output_type": "stream",
     "text": [
      "Gurobi Optimizer version 9.0.2 build v9.0.2rc0 (win64)\n",
      "Optimize a model with 5 rows, 5 columns and 21 nonzeros\n",
      "Model fingerprint: 0x105bebd2\n",
      "Coefficient statistics:\n",
      "  Matrix range     [1e-02, 1e+00]\n",
      "  Objective range  [1e-01, 1e-01]\n",
      "  Bounds range     [0e+00, 0e+00]\n",
      "  RHS range        [1e+07, 1e+07]\n",
      "Presolve removed 1 rows and 0 columns\n",
      "Presolve time: 0.00s\n",
      "Presolved: 4 rows, 5 columns, 18 nonzeros\n",
      "\n",
      "Iteration    Objective       Primal Inf.    Dual Inf.      Time\n",
      "       0    5.8005000e+29   7.120000e+30   5.800500e-01      0s\n",
      "       4    1.4113714e+06   0.000000e+00   0.000000e+00      0s\n",
      "\n",
      "Solved in 4 iterations and 0.00 seconds\n",
      "Optimal objective  1.411371429e+06\n",
      "x[Personal] 342857.14285714366\n",
      "x[Car] 0.0\n",
      "x[Home] 6857142.857142856\n",
      "x[Farm] 4800000.0\n",
      "x[Commercial] 0.0\n",
      "Obj: 1411371.4285714286\n"
     ]
    }
   ],
   "source": [
    "from gurobipy import *\n",
    "\n",
    "# define a list of the loan types to use for variable indices\n",
    "loan_type=['Personal', 'Car', 'Home', 'Farm', 'Commercial']\n",
    "\n",
    "# use dictionaries to define parameters\n",
    "interest={\n",
    "        'Personal':     0.14,\n",
    "        'Car':          0.13,\n",
    "        'Home':         0.12,\n",
    "        'Farm':         0.125,\n",
    "        'Commercial':   0.1\n",
    "        }\n",
    "\n",
    "bad_debt={\n",
    "        'Personal':     0.1,\n",
    "        'Car':          0.07,\n",
    "        'Home':         0.03,\n",
    "        'Farm':         0.05,\n",
    "        'Commercial':   0.02\n",
    "        }\n",
    "\n",
    "# create a model object\n",
    "m = Model()\n",
    "\n",
    "# define variables using loan_type as index (note nonegativity specified with lb=0.0)\n",
    "# note that the \"addVars\" command has an \"s\" at the end and \"loan_type\" is a list used for variable indices\n",
    "# variables represent the amount of money used for each loan type\n",
    "x=m.addVars(loan_type, lb=0.0, ub=GRB.INFINITY, vtype=GRB.CONTINUOUS,name=\"x\")\n",
    "\n",
    "# define objective function using a \"sum()\" function\n",
    "z = m.setObjective(sum(interest[i]*(1-bad_debt[i])*x[i] for i in loan_type), GRB.MAXIMIZE)\n",
    "\n",
    "# define constraints -- these two constraints are the same...just showing you different ways to code them\n",
    "m.addConstr(x['Home'] - 0.5*(x['Personal']+x['Car']+x['Home'])>= 0, \"home_req't\")\n",
    "m.addConstr((x['Home'] - 0.5*sum(x[i] for i in ['Personal','Car','Home'])>= 0), \"home_req't_v2\")\n",
    "\n",
    "# define more constraints\n",
    "m.addConstr(x['Farm']+x['Commercial'] - 0.4*sum(x[i] for i in loan_type)>= 0, \"farm/comm_req't\")\n",
    "m.addConstr((sum(bad_debt[i]*x[i] - 0.04*x[i] for i in loan_type)<=0),\"bad_debt_limit\")\n",
    "m.addConstr((sum(x[i] for i in loan_type)<=12000000),\"loan_amounts_add_to_$12M\")\n",
    "\n",
    "# m.addConstrs((x[i] <= 3000000 for i in loan_type),\"no_loan_more_than_$3M\")\n",
    "\n",
    "# find optimal solution\n",
    "m.optimize()\n",
    "\n",
    "# write out model\n",
    "m.write(\"L3E1.lp\")\n",
    "\n",
    "# print variable names and values\n",
    "for v in m.getVars():\n",
    "    print(v.varName, v.x)\n",
    "     \n",
    "# print objective function value    \n",
    "print('Obj:', m.objVal)"
   ]
  },
  {
   "cell_type": "code",
   "execution_count": null,
   "metadata": {},
   "outputs": [],
   "source": []
  }
 ],
 "metadata": {
  "kernelspec": {
   "display_name": "Python 3 (ipykernel)",
   "language": "python",
   "name": "python3"
  },
  "language_info": {
   "codemirror_mode": {
    "name": "ipython",
    "version": 3
   },
   "file_extension": ".py",
   "mimetype": "text/x-python",
   "name": "python",
   "nbconvert_exporter": "python",
   "pygments_lexer": "ipython3",
   "version": "3.9.7"
  }
 },
 "nbformat": 4,
 "nbformat_minor": 4
}
